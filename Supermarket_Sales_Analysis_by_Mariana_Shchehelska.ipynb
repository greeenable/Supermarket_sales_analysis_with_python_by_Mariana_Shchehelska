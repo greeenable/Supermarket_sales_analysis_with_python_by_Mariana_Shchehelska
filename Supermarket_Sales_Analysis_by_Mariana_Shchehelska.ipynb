{
 "cells": [
  {
   "cell_type": "code",
   "execution_count": 1,
   "id": "b50a00c4",
   "metadata": {},
   "outputs": [],
   "source": [
    "import numpy as np\n",
    "import pandas as pd\n",
    "import warnings"
   ]
  },
  {
   "cell_type": "code",
   "execution_count": 2,
   "id": "e30a5090",
   "metadata": {},
   "outputs": [],
   "source": [
    "warnings.filterwarnings(\"ignore\")"
   ]
  },
  {
   "cell_type": "code",
   "execution_count": 3,
   "id": "acaf127d",
   "metadata": {
    "ExecuteTime": {
     "end_time": "2022-11-12T13:06:25.860876Z",
     "start_time": "2022-11-12T13:06:16.921793Z"
    }
   },
   "outputs": [],
   "source": [
    "df = pd.read_csv('data/supermarket_sales.csv')"
   ]
  },
  {
   "cell_type": "markdown",
   "id": "815f9cc0",
   "metadata": {},
   "source": [
    "# How many total visits (number of invoices) were made by customers with different customer types?"
   ]
  },
  {
   "cell_type": "code",
   "execution_count": 4,
   "id": "0247e60a",
   "metadata": {
    "ExecuteTime": {
     "end_time": "2022-11-01T17:13:56.892032Z",
     "start_time": "2022-11-01T17:13:56.883250Z"
    }
   },
   "outputs": [
    {
     "data": {
      "text/plain": [
       "Customer type\n",
       "Member    501\n",
       "Normal    499\n",
       "Name: count, dtype: int64"
      ]
     },
     "execution_count": 4,
     "metadata": {},
     "output_type": "execute_result"
    }
   ],
   "source": [
    "df['Customer type'].value_counts()"
   ]
  },
  {
   "cell_type": "markdown",
   "id": "f4c8d00f",
   "metadata": {},
   "source": [
    "# What are the product lines in the dataset?"
   ]
  },
  {
   "cell_type": "code",
   "execution_count": 5,
   "id": "61ae9569",
   "metadata": {
    "ExecuteTime": {
     "end_time": "2021-12-08T18:46:42.649683Z",
     "start_time": "2021-12-08T18:46:42.644615Z"
    }
   },
   "outputs": [
    {
     "data": {
      "text/plain": [
       "array(['Health and beauty', 'Electronic accessories',\n",
       "       'Home and lifestyle', 'Sports and travel', 'Food and beverages',\n",
       "       'Fashion accessories'], dtype=object)"
      ]
     },
     "execution_count": 5,
     "metadata": {},
     "output_type": "execute_result"
    }
   ],
   "source": [
    "df['Product line'].unique()\n"
   ]
  },
  {
   "cell_type": "markdown",
   "id": "7d3dc308",
   "metadata": {
    "ExecuteTime": {
     "end_time": "2021-09-20T19:54:26.232269Z",
     "start_time": "2021-09-20T19:54:26.229253Z"
    }
   },
   "source": [
    "# What is the average product price in each product line?"
   ]
  },
  {
   "cell_type": "code",
   "execution_count": 6,
   "id": "2a9b94c5",
   "metadata": {
    "ExecuteTime": {
     "end_time": "2021-12-08T18:46:42.661701Z",
     "start_time": "2021-12-08T18:46:42.655591Z"
    }
   },
   "outputs": [
    {
     "name": "stdout",
     "output_type": "stream",
     "text": [
      "Product line\n",
      "Electronic accessories    53.551588\n",
      "Fashion accessories       57.153652\n",
      "Food and beverages        56.008851\n",
      "Health and beauty         54.854474\n",
      "Home and lifestyle        55.316937\n",
      "Sports and travel         56.993253\n",
      "Name: Unit price, dtype: float64\n"
     ]
    }
   ],
   "source": [
    "mean_unit_price = df.groupby('Product line')['Unit price'].mean()\n",
    "print(mean_unit_price)"
   ]
  },
  {
   "cell_type": "markdown",
   "id": "677ac891",
   "metadata": {
    "ExecuteTime": {
     "end_time": "2021-10-12T18:19:46.908444Z",
     "start_time": "2021-10-12T18:19:46.900526Z"
    }
   },
   "source": [
    "# From which invoice did the store get the most profit?"
   ]
  },
  {
   "cell_type": "code",
   "execution_count": 7,
   "id": "84539697",
   "metadata": {},
   "outputs": [
    {
     "data": {
      "text/plain": [
       "Invoice ID                         860-79-0874\n",
       "Branch                                       C\n",
       "City                                 Naypyitaw\n",
       "Customer type                           Member\n",
       "Gender                                  Female\n",
       "Product line               Fashion accessories\n",
       "Unit price                                99.3\n",
       "Quantity                                    10\n",
       "Tax 5%                                   49.65\n",
       "Total                                  1042.65\n",
       "Date                                 2/15/2019\n",
       "Time                                     14:53\n",
       "Payment                            Credit card\n",
       "cogs                                     993.0\n",
       "gross margin percentage               4.761905\n",
       "gross income                             49.65\n",
       "Rating                                     6.6\n",
       "Name: 350, dtype: object"
      ]
     },
     "execution_count": 7,
     "metadata": {},
     "output_type": "execute_result"
    }
   ],
   "source": [
    "df.loc[df['gross income'].idxmax()]"
   ]
  },
  {
   "cell_type": "markdown",
   "id": "28638363",
   "metadata": {},
   "source": [
    "# Which branch of the store is the most profitable? What is its total income and in what city is it located? "
   ]
  },
  {
   "cell_type": "code",
   "execution_count": 8,
   "id": "916d731d",
   "metadata": {
    "ExecuteTime": {
     "end_time": "2022-11-01T17:27:42.023877Z",
     "start_time": "2022-11-01T17:27:42.020277Z"
    }
   },
   "outputs": [
    {
     "name": "stdout",
     "output_type": "stream",
     "text": [
      "Branch \"C\" is the most profitable. This branch is located in Naypyitaw.\n"
     ]
    }
   ],
   "source": [
    "profitable_branch = df.groupby('Branch')['gross income'].sum()\n",
    "\n",
    "max_profitable_branch = profitable_branch.idxmax()\n",
    "city_max_profitable_branch = df[df['Branch'] == max_profitable_branch]['City'].iloc[0]\n",
    "\n",
    "print(f'Branch \"{max_profitable_branch}\" is the most profitable. This branch is located in {city_max_profitable_branch}.')"
   ]
  },
  {
   "cell_type": "markdown",
   "id": "cdcab0d9",
   "metadata": {},
   "source": [
    "# Does the margin differ for different visits in the store?"
   ]
  },
  {
   "cell_type": "code",
   "execution_count": 9,
   "id": "779eee90",
   "metadata": {
    "ExecuteTime": {
     "end_time": "2022-11-01T17:32:47.532241Z",
     "start_time": "2022-11-01T17:32:47.525715Z"
    }
   },
   "outputs": [
    {
     "name": "stdout",
     "output_type": "stream",
     "text": [
      "All visits have the same margin\n"
     ]
    }
   ],
   "source": [
    "if_unique = df.groupby('Invoice ID')['gross margin percentage'].nunique()\n",
    "\n",
    "if if_unique.max() == 1:\n",
    "    print('All visits have the same margin')\n",
    "else: \n",
    "    print('The margin is different for different visits')"
   ]
  },
  {
   "cell_type": "markdown",
   "id": "6dec795f",
   "metadata": {},
   "source": [
    "# Which branch of the store has the most visits with the purchase of electronic accessories?"
   ]
  },
  {
   "cell_type": "code",
   "execution_count": 10,
   "id": "cadbd0d1",
   "metadata": {
    "ExecuteTime": {
     "end_time": "2022-11-01T17:37:46.479624Z",
     "start_time": "2022-11-01T17:37:46.464642Z"
    }
   },
   "outputs": [
    {
     "data": {
      "text/html": [
       "<div>\n",
       "<style scoped>\n",
       "    .dataframe tbody tr th:only-of-type {\n",
       "        vertical-align: middle;\n",
       "    }\n",
       "\n",
       "    .dataframe tbody tr th {\n",
       "        vertical-align: top;\n",
       "    }\n",
       "\n",
       "    .dataframe thead tr th {\n",
       "        text-align: left;\n",
       "    }\n",
       "\n",
       "    .dataframe thead tr:last-of-type th {\n",
       "        text-align: right;\n",
       "    }\n",
       "</style>\n",
       "<table border=\"1\" class=\"dataframe\">\n",
       "  <thead>\n",
       "    <tr>\n",
       "      <th></th>\n",
       "      <th colspan=\"6\" halign=\"left\">Invoice ID</th>\n",
       "    </tr>\n",
       "    <tr>\n",
       "      <th>Product line</th>\n",
       "      <th>Electronic accessories</th>\n",
       "      <th>Fashion accessories</th>\n",
       "      <th>Food and beverages</th>\n",
       "      <th>Health and beauty</th>\n",
       "      <th>Home and lifestyle</th>\n",
       "      <th>Sports and travel</th>\n",
       "    </tr>\n",
       "    <tr>\n",
       "      <th>Branch</th>\n",
       "      <th></th>\n",
       "      <th></th>\n",
       "      <th></th>\n",
       "      <th></th>\n",
       "      <th></th>\n",
       "      <th></th>\n",
       "    </tr>\n",
       "  </thead>\n",
       "  <tbody>\n",
       "    <tr>\n",
       "      <th>A</th>\n",
       "      <td>60</td>\n",
       "      <td>51</td>\n",
       "      <td>58</td>\n",
       "      <td>47</td>\n",
       "      <td>65</td>\n",
       "      <td>59</td>\n",
       "    </tr>\n",
       "    <tr>\n",
       "      <th>B</th>\n",
       "      <td>55</td>\n",
       "      <td>62</td>\n",
       "      <td>50</td>\n",
       "      <td>53</td>\n",
       "      <td>50</td>\n",
       "      <td>62</td>\n",
       "    </tr>\n",
       "    <tr>\n",
       "      <th>C</th>\n",
       "      <td>55</td>\n",
       "      <td>65</td>\n",
       "      <td>66</td>\n",
       "      <td>52</td>\n",
       "      <td>45</td>\n",
       "      <td>45</td>\n",
       "    </tr>\n",
       "  </tbody>\n",
       "</table>\n",
       "</div>"
      ],
      "text/plain": [
       "                         Invoice ID                                         \\\n",
       "Product line Electronic accessories Fashion accessories Food and beverages   \n",
       "Branch                                                                       \n",
       "A                                60                  51                 58   \n",
       "B                                55                  62                 50   \n",
       "C                                55                  65                 66   \n",
       "\n",
       "                                                                     \n",
       "Product line Health and beauty Home and lifestyle Sports and travel  \n",
       "Branch                                                               \n",
       "A                           47                 65                59  \n",
       "B                           53                 50                62  \n",
       "C                           52                 45                45  "
      ]
     },
     "execution_count": 10,
     "metadata": {},
     "output_type": "execute_result"
    }
   ],
   "source": [
    "pivot = df.pivot_table(index=['Branch'], columns=['Product line'], values=['Invoice ID'],aggfunc='count')\n",
    "pivot"
   ]
  },
  {
   "cell_type": "markdown",
   "id": "acc43aab",
   "metadata": {},
   "source": [
    "# Display the number of visits per hour and conclude when the store has the most visits and why."
   ]
  },
  {
   "cell_type": "code",
   "execution_count": 11,
   "id": "74bea339",
   "metadata": {},
   "outputs": [
    {
     "name": "stdout",
     "output_type": "stream",
     "text": [
      "   Hour\n",
      "0    13\n",
      "1    10\n",
      "2    13\n",
      "3    20\n",
      "4    10\n",
      "Hour\n",
      "10    101\n",
      "11     90\n",
      "12     89\n",
      "13    103\n",
      "14     83\n",
      "15    102\n",
      "16     77\n",
      "17     74\n",
      "18     93\n",
      "19    113\n",
      "20     75\n",
      "Name: Invoice ID, dtype: int64\n"
     ]
    }
   ],
   "source": [
    "df['Time'] = pd.to_datetime(df['Time'])\n",
    "df['Hour'] = df['Time'].dt.hour\n",
    "\n",
    "print(df.iloc[:5][['Hour']])\n",
    "print(df.groupby('Hour')['Invoice ID'].count())"
   ]
  },
  {
   "cell_type": "markdown",
   "id": "29fa8c6c",
   "metadata": {},
   "source": [
    "The largest number of visits is at 7 p.m. I suppose, it's because most people have a standard working day, and they go to the store after work. The most popular hours for visits are 10 a.m., 1 p.m., 3 p.m., and 7 p.m. I think 10 o'clock is popular because it's when the shop opens, 13 o'clock and 15 o'clock are related to lunchtime shopping by working people, maybe also schoolchildren and students after classes or during a long break. The context of the country and city and how education is organized in them is important here. The 19th hour looks like the peak of the load after a working day on the way home."
   ]
  },
  {
   "cell_type": "markdown",
   "id": "d005a2b8",
   "metadata": {
    "ExecuteTime": {
     "end_time": "2022-11-01T17:56:02.981755Z",
     "start_time": "2022-11-01T17:56:02.977086Z"
    }
   },
   "source": [
    "# Which product line brings us the most profit?\n"
   ]
  },
  {
   "cell_type": "code",
   "execution_count": 12,
   "id": "50c30e37",
   "metadata": {},
   "outputs": [
    {
     "name": "stdout",
     "output_type": "stream",
     "text": [
      "Product line\n",
      "Electronic accessories    2587.5015\n",
      "Fashion accessories       2585.9950\n",
      "Food and beverages        2673.5640\n",
      "Health and beauty         2342.5590\n",
      "Home and lifestyle        2564.8530\n",
      "Sports and travel         2624.8965\n",
      "Name: gross income, dtype: float64 Food and beverages\n",
      "We see that sales of Food and beverages bring the most profit. Perhaps it makes sense to add to the assortment of this product line to increase profits even more\n"
     ]
    }
   ],
   "source": [
    "\n",
    "gross_income_per_product_line = df.groupby('Product line')['gross income'].sum()\n",
    "max_profitable_product_line = gross_income_per_product_line.idxmax()\n",
    "\n",
    "print(gross_income_per_product_line, max_profitable_product_line)\n",
    "print(f'We see that sales of {max_profitable_product_line} bring the most profit. Perhaps it makes sense to add to the assortment of this product line to increase profits even more')"
   ]
  },
  {
   "cell_type": "markdown",
   "id": "a97317c8",
   "metadata": {},
   "source": [
    "# What is the average purchase receipt for Member and Normal customer types?"
   ]
  },
  {
   "cell_type": "code",
   "execution_count": 13,
   "id": "a9965010",
   "metadata": {},
   "outputs": [
    {
     "name": "stdout",
     "output_type": "stream",
     "text": [
      "Customer type\n",
      "Member    327.791305\n",
      "Normal    318.122856\n",
      "Name: Total, dtype: float64\n"
     ]
    }
   ],
   "source": [
    "mean_purchase_by_customer_type = df.groupby('Customer type')['Total'].mean()\n",
    "print(mean_purchase_by_customer_type)"
   ]
  },
  {
   "cell_type": "markdown",
   "id": "7eb40c4d",
   "metadata": {},
   "source": [
    "Member buyers have a higher average check, so we need to motivate customers without a signed subscription to subscribe to the store"
   ]
  },
  {
   "cell_type": "markdown",
   "id": "c7b46b00",
   "metadata": {},
   "source": [
    "# Which gender has the highest average check in our stores on average?"
   ]
  },
  {
   "cell_type": "code",
   "execution_count": 14,
   "id": "0e4e005f",
   "metadata": {},
   "outputs": [
    {
     "name": "stdout",
     "output_type": "stream",
     "text": [
      "Gender\n",
      "Female    335.095659\n",
      "Male      310.789226\n",
      "Name: Total, dtype: float64\n"
     ]
    }
   ],
   "source": [
    "mean_purchase_by_gender = df.groupby('Gender')['Total'].mean()\n",
    "\n",
    "print(mean_purchase_by_gender)"
   ]
  },
  {
   "cell_type": "markdown",
   "id": "3fd71e9c",
   "metadata": {},
   "source": [
    "On average, women leave more money in our supermarkets, so our advertising should focus more on women"
   ]
  }
 ],
 "metadata": {
  "kernelspec": {
   "display_name": "Python 3 (ipykernel)",
   "language": "python",
   "name": "python3"
  },
  "language_info": {
   "codemirror_mode": {
    "name": "ipython",
    "version": 3
   },
   "file_extension": ".py",
   "mimetype": "text/x-python",
   "name": "python",
   "nbconvert_exporter": "python",
   "pygments_lexer": "ipython3",
   "version": "3.11.5"
  },
  "toc": {
   "base_numbering": 1,
   "nav_menu": {},
   "number_sections": true,
   "sideBar": true,
   "skip_h1_title": false,
   "title_cell": "Table of Contents",
   "title_sidebar": "Contents",
   "toc_cell": false,
   "toc_position": {},
   "toc_section_display": true,
   "toc_window_display": false
  },
  "vscode": {
   "interpreter": {
    "hash": "a6511e6b41b26ba86cca7483749cf4dd15bf137a2672e550741a656e19bba82e"
   }
  }
 },
 "nbformat": 4,
 "nbformat_minor": 5
}
